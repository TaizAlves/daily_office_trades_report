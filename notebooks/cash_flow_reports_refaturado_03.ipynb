{
 "cells": [
  {
   "cell_type": "markdown",
   "metadata": {},
   "source": [
    "# 0. Cash Flow and Report"
   ]
  },
  {
   "cell_type": "markdown",
   "metadata": {
    "heading_collapsed": true
   },
   "source": [
    "## 0.1 Problem"
   ]
  },
  {
   "cell_type": "markdown",
   "metadata": {
    "hidden": true
   },
   "source": [
    "- **Main objective**: Generate consolidated reports from a trading extract, update cash flow and send email with reports.\n",
    "\n",
    "- **Problem**: Read trade extract file, make reports about day, month and year operations, update cash flow and send email with attachments to a list of people, being possible to add 1 more attachment for each person.\n",
    " \n",
    "\n"
   ]
  },
  {
   "cell_type": "markdown",
   "metadata": {},
   "source": [
    "## 0.2 Planning"
   ]
  },
  {
   "cell_type": "markdown",
   "metadata": {},
   "source": [
    "\n",
    "**Algorithm steps**:\n",
    "\n",
    "1. Import the necessary packages\n",
    "2. Open the extract file as dataframe\n",
    "3. Select columns and change type\n",
    "4. Create new columns relevant to reporting\n",
    "5. Generate reports\n",
    "6. Create updated cash flow\n",
    "7. Generate a spreadsheet with taxes payable on earned amounts, Separate by year, day trade or not, share, option and futures market by dividing rates for day trade and normal.\n",
    "8. Read sender username and password\n",
    "9. Ask if you want to add another file and verify that the files are in excel\n",
    "10. Read recipient list and send email\n",
    "\n",
    "**Tools**: Python 3.8.3 \n",
    "\n",
    "**How?** email with attachments\n",
    "\n",
    "\n",
    "\n"
   ]
  },
  {
   "cell_type": "markdown",
   "metadata": {},
   "source": [
    "# 1. Imports"
   ]
  },
  {
   "cell_type": "code",
   "execution_count": 1,
   "metadata": {
    "ExecuteTime": {
     "end_time": "2021-07-03T15:51:47.780349Z",
     "start_time": "2021-07-03T15:51:46.630601Z"
    }
   },
   "outputs": [],
   "source": [
    "import pandas as pd\n",
    "import numpy as np\n",
    "import datetime\n",
    "\n",
    "import re\n",
    "\n",
    "import smtplib\n",
    "\n",
    "from email.message import EmailMessage"
   ]
  },
  {
   "cell_type": "markdown",
   "metadata": {},
   "source": [
    "## 0.1. Helper Functions"
   ]
  },
  {
   "cell_type": "markdown",
   "metadata": {},
   "source": [
    "# 2. Load data"
   ]
  },
  {
   "cell_type": "code",
   "execution_count": 2,
   "metadata": {
    "ExecuteTime": {
     "end_time": "2021-06-28T15:41:23.718414Z",
     "start_time": "2021-06-28T15:41:23.707418Z"
    }
   },
   "outputs": [],
   "source": [
    "def get_data(path):\n",
    "    data = pd.read_excel('../database/ReportHistory.xlsx', header=5, engine='openpyxl')\n",
    "    data.rename(columns=data.iloc[0], inplace= True)\n",
    "    data = data.drop(labels=0, axis=0)\n",
    "    return data\n",
    "\n"
   ]
  },
  {
   "cell_type": "markdown",
   "metadata": {},
   "source": [
    "# 3.0 Data description"
   ]
  },
  {
   "cell_type": "markdown",
   "metadata": {},
   "source": [
    "## 3.1 Rename columns"
   ]
  },
  {
   "cell_type": "code",
   "execution_count": 3,
   "metadata": {
    "ExecuteTime": {
     "end_time": "2021-06-28T15:41:23.750409Z",
     "start_time": "2021-06-28T15:41:23.724415Z"
    }
   },
   "outputs": [],
   "source": [
    "def change_dtypes(data):\n",
    "    \n",
    "    data = data[['Horário',    'Position',       'Ativo',        'Tipo',\n",
    "            'Volume',    'Preço In',       'S / L',       'T / P',\n",
    "       'Horário Out',   'Preço Out', 'Lucro']]\n",
    "    \n",
    "    # change dtypes\n",
    "    data['Horário'] = pd.to_datetime(data['Horário'], format= '%Y-%m-%d ')\n",
    "    data['Horário Out'] = pd.to_datetime(data['Horário Out'], format= '%Y-%m-%d ')\n",
    "\n",
    "    data['Position'] = data['Position'].astype( np.int64)\n",
    "    data['Preço In'] = data['Preço In'].astype( float )\n",
    "    data['Preço Out'] = data['Preço Out'].astype( float )\n",
    "\n",
    "    data['Lucro'] = data['Lucro'].astype( np.int64)\n",
    "    \n",
    "    return data\n",
    "\n"
   ]
  },
  {
   "cell_type": "markdown",
   "metadata": {
    "ExecuteTime": {
     "end_time": "2021-06-22T13:16:16.086326Z",
     "start_time": "2021-06-22T13:16:16.082328Z"
    }
   },
   "source": [
    "## 3.4 Feature extraction"
   ]
  },
  {
   "cell_type": "code",
   "execution_count": 4,
   "metadata": {
    "ExecuteTime": {
     "end_time": "2021-06-28T15:41:23.766404Z",
     "start_time": "2021-06-28T15:41:23.755409Z"
    }
   },
   "outputs": [],
   "source": [
    "def feature_extraction(df1):\n",
    "    \n",
    "    df1['Date'] = df1['Horário'].dt.normalize()\n",
    "    df1['year'] =  df1['Horário'].dt.year\n",
    "    df1['month'] = df1['Horário'].dt.month\n",
    "    df1['day'] =   df1['Horário'].dt.day\n",
    "\n",
    "    # Market classification\n",
    "\n",
    "    df1['Market']= df1['Ativo'].apply(lambda x: 'futures' if x.startswith(('WIN', 'WDO')) else\n",
    "\n",
    "                       'stock' if len(x) == 5 else 'options' )\n",
    "\n",
    "\n",
    "    # day trade = 1 if day trade, 0 if not\n",
    "    df1['day_trade']= df1.apply(lambda x: 1 if x['day'] == x['Horário Out'].day else 0, axis=1 )\n",
    "    \n",
    "    return df1\n",
    "\n"
   ]
  },
  {
   "cell_type": "code",
   "execution_count": 5,
   "metadata": {
    "ExecuteTime": {
     "end_time": "2021-06-28T15:41:23.798396Z",
     "start_time": "2021-06-28T15:41:23.771403Z"
    }
   },
   "outputs": [],
   "source": [
    "def financial_reports(df1):\n",
    "    \n",
    "\n",
    "    df1['yesterday'] = today - datetime.timedelta(days=1)\n",
    "\n",
    "    yesterday_report = df1.loc[df1['Date'] == df1['yesterday'],['Horário',    'Position',       'Ativo',        'Tipo',\n",
    "                'Volume',  'Lucro', 'Market', 'day_trade']]\n",
    "\n",
    "\n",
    "    \n",
    "\n",
    "    ## Save Report\n",
    "    #yesterday_report.to_excel('reports/report{}.xls'.format(y))\n",
    "    yesterday_report\n",
    "    \n",
    "    \n",
    "    \n",
    "    # Group by Date nr of trades and sum of Profif/loss\n",
    "    profit_loss = df1[['Date', 'Lucro']].groupby('Date').sum().reset_index()\n",
    "\n",
    "    trade_nr = df1[['Date', 'Ativo']].groupby('Date').count().reset_index()\n",
    "\n",
    "    #merge \n",
    "    aux = pd.merge( trade_nr,profit_loss, how='inner', on='Date')\n",
    "    aux.columns =['Date', 'Nr of Trades', 'Profit/Loss']\n",
    "\n",
    "    # Last 10 days - summary (to_excel)\n",
    "    summary_10_last_days = aux.sort_values('Date', ascending = False).head(10)\n",
    "    summary_10_last_days.to_excel('reports/last_10_days_update{}.xlsx'.format(y))\n",
    "    \n",
    "    \n",
    "    #Summarize stock, deal and total profit/loss per date using agg. \n",
    "    total_report = df1.groupby(['Date', 'Ativo']).agg( Deals=('Ativo','count'),Profit_Loss=('Lucro','sum')\n",
    "                                            ).sort_values('Date', ascending= False)\n",
    "\n",
    "    total_report.to_excel('../reports/total_report_summary{}.xlsx'.format(y))\n",
    "    \n",
    "    \n",
    "    return yesterday_report, total_report\n",
    "\n",
    "\n",
    "\n",
    "\n",
    "\n"
   ]
  },
  {
   "cell_type": "code",
   "execution_count": null,
   "metadata": {
    "ExecuteTime": {
     "end_time": "2021-06-24T12:45:11.587502Z",
     "start_time": "2021-06-24T12:45:11.558509Z"
    }
   },
   "outputs": [],
   "source": []
  },
  {
   "cell_type": "markdown",
   "metadata": {},
   "source": [
    "## 3.4  Filtering Variables"
   ]
  },
  {
   "cell_type": "code",
   "execution_count": 6,
   "metadata": {
    "ExecuteTime": {
     "end_time": "2021-06-28T15:41:23.830388Z",
     "start_time": "2021-06-28T15:41:23.802396Z"
    }
   },
   "outputs": [],
   "source": [
    "def cash_flow(df1):\n",
    "    \n",
    "    #Filtering Variables\n",
    "    daily_spend = df1.groupby('Date').agg({'Lucro':['count','sum']}).reset_index()\n",
    "    daily_spend= daily_spend.rename(columns={\"count\": \"Nr. Trades\", \"sum\": \"Profit/Loss\"})\n",
    "    \n",
    "    #preparing DataFrame\n",
    "    c_flow = pd.DataFrame()\n",
    "\n",
    "    # start initial blance\n",
    "    initial = 10000\n",
    "\n",
    "    initial_balance=[]\n",
    "    initial_balance.append(initial)\n",
    "\n",
    "\n",
    "    #c_flow.values\n",
    "    lucro = daily_spend['Lucro']['Profit/Loss'].values\n",
    "    tax = abs(lucro*0.01)\n",
    "\n",
    "    for i in range(daily_spend.shape[0] -1):\n",
    "        initial = initial + lucro[i] - tax[i]\n",
    "        initial_balance.append(initial)\n",
    "\n",
    "    #initial_balance\n",
    "    c_flow['Date'] = daily_spend['Date']\n",
    "    c_flow['initial_balance'] = initial_balance\n",
    "    c_flow['Lucro'] = daily_spend['Lucro']['Profit/Loss']\n",
    "    c_flow['withholding_tax']= c_flow['Lucro'].apply(lambda x: abs(0.01*x) )\n",
    "    c_flow['final_balance'] = c_flow['initial_balance'] + c_flow['Lucro']- c_flow['withholding_tax']\n",
    "\n",
    "    c_flow.sort_values('Date', ascending = False)\n",
    "\n",
    "    # Export \n",
    "    c_flow.sort_values('Date', ascending = False).to_excel('../reports/cashflow{}.xlsx'.format(y))\n",
    "    \n",
    "    return None\n",
    "\n",
    "\n"
   ]
  },
  {
   "cell_type": "markdown",
   "metadata": {},
   "source": [
    "# 4.0 Cash Flow"
   ]
  },
  {
   "cell_type": "markdown",
   "metadata": {},
   "source": [
    "## 4.1 Income Tax "
   ]
  },
  {
   "cell_type": "code",
   "execution_count": 7,
   "metadata": {
    "ExecuteTime": {
     "end_time": "2021-06-28T15:41:23.862381Z",
     "start_time": "2021-06-28T15:41:23.833390Z"
    }
   },
   "outputs": [],
   "source": [
    "def income_tax(df1):\n",
    "    \n",
    "    ### Tax Rules\n",
    "    # each trade = 1% withholding tax if profit > 0 \n",
    "    # income tax is calculated by month = 20% * profit - withholdtax if it´s a day trade, normal trade 15%, if loss no tax\n",
    "\n",
    "    df1['withholding_tax'] = df1['Lucro'].apply(lambda x: abs(0.01*x) if x > 0 else 0 )\n",
    "\n",
    "    df1['Profit_minus_withholding_tax'] = df1.apply (lambda x: x['Lucro'] - x['withholding_tax'] if x['Lucro'] > 0 else x['Lucro'], axis =1 )\n",
    "\n",
    "\n",
    "\n",
    "    aux_tax_0 =  df1.groupby(['year','month', 'Market', 'day_trade']).agg( Profit= ('Lucro', 'sum'),Withholding_tax=('withholding_tax','sum'),Deals=('Ativo','count'),Profit_minus_tax= ('Profit_minus_withholding_tax', 'sum')).reset_index()\n",
    "\n",
    "\n",
    "    aux_tax_0['income_tax'] = aux_tax_0.apply(lambda x: 0.20 * x['Profit_minus_tax'] if (x['day_trade'] == 1) & (x['Profit_minus_tax'] > 0) else 0.15* x['Profit_minus_tax'] if   (x['day_trade'] == 0 )& (x['Profit_minus_tax'] > 0)   else 0, axis=1 )\n",
    "    aux_tax_0['Profit_net'] = aux_tax_0.apply(lambda x: x['Profit_minus_tax'] - x['income_tax'], axis=1 )\n",
    "\n",
    "\n",
    "    aux_tx_summary = aux_tax_0.groupby(['year','month', 'day_trade']).agg(Deals=('Deals','count'),Profit= ('Profit', 'sum'),Withholding_tax=('Withholding_tax','sum'), Income_tax = ('income_tax', 'sum'), Profit_net = ('Profit_net', 'sum') ).sort_values('month')\n",
    "\n",
    "    aux_tx_by_mkt = aux_tax_0.groupby(['year','month', 'Market','day_trade']).agg(Deals=('Deals','count'),Profit= ('Profit', 'sum'),Withholding_tax=('Withholding_tax','sum'), Income_tax = ('income_tax', 'sum'), Profit_net = ('Profit_net', 'sum') ).sort_values('month')\n",
    "    aux_tx_summary.to_excel('../reports/tx_per_month-updated{}.xlsx'.format(y))\n",
    "    aux_tx_by_mkt.to_excel('../reports/tx_per_mkt-updated{}.xlsx'.format(y))\n",
    "    \n",
    "    return None\n",
    "\n",
    "\n"
   ]
  },
  {
   "cell_type": "markdown",
   "metadata": {},
   "source": [
    "# 5.0  Send email"
   ]
  },
  {
   "cell_type": "code",
   "execution_count": 8,
   "metadata": {
    "ExecuteTime": {
     "end_time": "2021-06-28T15:41:23.894373Z",
     "start_time": "2021-06-28T15:41:23.870380Z"
    }
   },
   "outputs": [],
   "source": [
    "# capture email and password from sender\n",
    "\n",
    "def capture(arquivo): \n",
    "    nome_arq = arquivo\n",
    "    try:\n",
    "        arq = open(nome_arq, 'r') # abre arquivo em modo de leitura\n",
    "        conteudo = arq.readlines() # lê as linhas do aquivo e guarda em uma lista\n",
    "        arq.close()\n",
    "\n",
    "        for linha in conteudo:\n",
    "            if \"email\" in linha:\n",
    "                lista_str = linha.split('=')\n",
    "                email   = lista_str[1].strip()\n",
    "                \n",
    "\n",
    "            if \"senha\" in linha:\n",
    "                lista_str = linha.split('=')\n",
    "                senha     = lista_str[1].strip()\n",
    "                              \n",
    "    \n",
    "    except FileNotFoundError:\n",
    "        print(f\"Arquivo {nome_arq} não encontrado!\")\n",
    "        \n",
    "    return email, senha"
   ]
  },
  {
   "cell_type": "code",
   "execution_count": 9,
   "metadata": {
    "ExecuteTime": {
     "end_time": "2021-06-28T15:41:23.910373Z",
     "start_time": "2021-06-28T15:41:23.898373Z"
    }
   },
   "outputs": [],
   "source": [
    "def files(arq, name ): \n",
    "    \n",
    "    add_file= str(input('Add another file to {}´s report ( only excel, please!)? ( N to exit )'.format(name)))\n",
    "\n",
    "    regex = '(.xls|.xlsx)$' \n",
    "\n",
    "    spair_letter = [l for l in add_file   ] \n",
    "    \n",
    "\n",
    "    if len(spair_letter) < 4:\n",
    "            add_file = add_file.upper()[0]\n",
    "            \n",
    "    else:\n",
    "        \n",
    "        if add_file != \"N\":\n",
    "\n",
    "            try: \n",
    "                if bool(re.search( regex, add_file )) == True  and add_file not in arq: \n",
    "                    \n",
    "                    arq.append(add_file)\n",
    "                else: \n",
    "                    print('Please check the file path and name. ej:(\"./reports/file.xlsx\") ')\n",
    "                    \n",
    "                    \n",
    "            except Exception as e:\n",
    "                print('Error! : ',e)\n",
    "        \n",
    "            \n",
    "    return arq\n",
    "\n",
    "\n",
    "\n",
    "    "
   ]
  },
  {
   "cell_type": "code",
   "execution_count": 10,
   "metadata": {
    "ExecuteTime": {
     "end_time": "2021-06-28T15:41:23.940362Z",
     "start_time": "2021-06-28T15:41:23.918368Z"
    }
   },
   "outputs": [],
   "source": [
    "def send_mail_with_excel( from_email_file, name, recipient_email, subject, files_xls):\n",
    "    #capture email and password \"FROM\"\n",
    "    email, senha = capture(from_email_file)\n",
    "    \n",
    "    msg = EmailMessage()\n",
    "    msg['Subject'] = subject + y\n",
    "    msg['From'] = email\n",
    "    msg['To'] = recipient_email\n",
    "    \n",
    "    email_content = f'''\n",
    "\n",
    "        <p>Dear {name}, </p>\n",
    "        <p>Please find attached detailed cash flow and trade report.  </p>\n",
    "        <br />\n",
    "        <p> <small><strong> Yesterday´s trade´s information   </strong></small> </p>\n",
    "            {yesterday_report.to_html()}\n",
    "        <br />\n",
    "        <p>Taiz Alves</p>\n",
    "        <p><small><strong>Data analyst </strong></small></p> '''\n",
    "\n",
    "    msg.add_header('Content-Type', 'text/html')\n",
    "    msg.set_payload(email_content)\n",
    "    \n",
    "    \n",
    "    ## add more than 1 file and ask \n",
    "    \n",
    "    for excel_file in files_xls:\n",
    "        with open(excel_file, 'rb') as f:\n",
    "            file_data = f.read()\n",
    "            msg.add_attachment(file_data, maintype=\"application\", subtype=\"xlsx\", filename=excel_file)\n",
    "    \n",
    "    \n",
    "    try: \n",
    "        with smtplib.SMTP_SSL('smtp.gmail.com', 465) as smtp:\n",
    "            smtp.login(email, senha)\n",
    "            smtp.sendmail(msg['From'], [msg['To']],msg.as_string().encode('utf-8'))\n",
    "            smtp.quit()\n",
    "            print('Email sent to {}'.format(recipient_email))\n",
    "    except Exception as e:\n",
    "        print('Error! : ',e)\n",
    "        \n",
    "    return None\n",
    "        \n"
   ]
  },
  {
   "cell_type": "markdown",
   "metadata": {},
   "source": [
    "## 5.0  if __name__ == '__main__':"
   ]
  },
  {
   "cell_type": "code",
   "execution_count": 11,
   "metadata": {
    "ExecuteTime": {
     "end_time": "2021-06-28T15:41:26.351853Z",
     "start_time": "2021-06-28T15:41:23.944362Z"
    }
   },
   "outputs": [
    {
     "name": "stderr",
     "output_type": "stream",
     "text": [
      "<ipython-input-3-f4d6d1cea6c2>:8: SettingWithCopyWarning: \n",
      "A value is trying to be set on a copy of a slice from a DataFrame.\n",
      "Try using .loc[row_indexer,col_indexer] = value instead\n",
      "\n",
      "See the caveats in the documentation: https://pandas.pydata.org/pandas-docs/stable/user_guide/indexing.html#returning-a-view-versus-a-copy\n",
      "  data['Horário'] = pd.to_datetime(data['Horário'], format= '%Y-%m-%d ')\n",
      "<ipython-input-3-f4d6d1cea6c2>:9: SettingWithCopyWarning: \n",
      "A value is trying to be set on a copy of a slice from a DataFrame.\n",
      "Try using .loc[row_indexer,col_indexer] = value instead\n",
      "\n",
      "See the caveats in the documentation: https://pandas.pydata.org/pandas-docs/stable/user_guide/indexing.html#returning-a-view-versus-a-copy\n",
      "  data['Horário Out'] = pd.to_datetime(data['Horário Out'], format= '%Y-%m-%d ')\n",
      "<ipython-input-3-f4d6d1cea6c2>:11: SettingWithCopyWarning: \n",
      "A value is trying to be set on a copy of a slice from a DataFrame.\n",
      "Try using .loc[row_indexer,col_indexer] = value instead\n",
      "\n",
      "See the caveats in the documentation: https://pandas.pydata.org/pandas-docs/stable/user_guide/indexing.html#returning-a-view-versus-a-copy\n",
      "  data['Position'] = data['Position'].astype( np.int64)\n",
      "<ipython-input-3-f4d6d1cea6c2>:12: SettingWithCopyWarning: \n",
      "A value is trying to be set on a copy of a slice from a DataFrame.\n",
      "Try using .loc[row_indexer,col_indexer] = value instead\n",
      "\n",
      "See the caveats in the documentation: https://pandas.pydata.org/pandas-docs/stable/user_guide/indexing.html#returning-a-view-versus-a-copy\n",
      "  data['Preço In'] = data['Preço In'].astype( float )\n",
      "<ipython-input-3-f4d6d1cea6c2>:13: SettingWithCopyWarning: \n",
      "A value is trying to be set on a copy of a slice from a DataFrame.\n",
      "Try using .loc[row_indexer,col_indexer] = value instead\n",
      "\n",
      "See the caveats in the documentation: https://pandas.pydata.org/pandas-docs/stable/user_guide/indexing.html#returning-a-view-versus-a-copy\n",
      "  data['Preço Out'] = data['Preço Out'].astype( float )\n",
      "<ipython-input-3-f4d6d1cea6c2>:15: SettingWithCopyWarning: \n",
      "A value is trying to be set on a copy of a slice from a DataFrame.\n",
      "Try using .loc[row_indexer,col_indexer] = value instead\n",
      "\n",
      "See the caveats in the documentation: https://pandas.pydata.org/pandas-docs/stable/user_guide/indexing.html#returning-a-view-versus-a-copy\n",
      "  data['Lucro'] = data['Lucro'].astype( np.int64)\n"
     ]
    },
    {
     "name": "stdout",
     "output_type": "stream",
     "text": [
      "Number of Rows: 332\n",
      "Number of Cols: 11\n",
      "Horário        datetime64[ns]\n",
      "Position                int64\n",
      "Ativo                  object\n",
      "Tipo                   object\n",
      "Volume                 object\n",
      "Preço In              float64\n",
      "S / L                  object\n",
      "T / P                  object\n",
      "Horário Out    datetime64[ns]\n",
      "Preço Out             float64\n",
      "Lucro                   int64\n",
      "dtype: object\n",
      "Horário         0\n",
      "Position        0\n",
      "Ativo           0\n",
      "Tipo            0\n",
      "Volume          0\n",
      "Preço In       38\n",
      "S / L          42\n",
      "T / P          45\n",
      "Horário Out     0\n",
      "Preço Out      38\n",
      "Lucro           0\n",
      "Date            0\n",
      "year            0\n",
      "month           0\n",
      "day             0\n",
      "Market          0\n",
      "day_trade       0\n",
      "dtype: int64\n",
      "\n",
      "              Horário   Position   Ativo Tipo Volume  Preço In   S / L  \\\n",
      "1 2020-10-01 14:00:00  477192759  WDOX20  buy      1    5645.5    5609   \n",
      "2 2020-10-01 16:36:19  477549686  WDOX20  buy      1    5661.0  5620.5   \n",
      "3 2020-10-02 12:00:00  478175765  WDOX20  buy      1    5643.0    5605   \n",
      "4 2020-10-02 12:15:44  478217920  WDOX20  buy      1    5658.0  5617.5   \n",
      "5 2020-10-02 12:44:59  478327168  WDOX20  buy      1    5669.5  5629.5   \n",
      "\n",
      "    T / P         Horário Out  Preço Out  Lucro       Date  year  month  day  \\\n",
      "1  6045.5 2020-10-01 16:36:19     5661.0    311 2020-10-01  2020     10    1   \n",
      "2  6060.5 2020-10-01 17:47:59     5662.0   1914 2020-10-01  2020     10    1   \n",
      "3    6043 2020-10-02 12:15:44     5658.0    221 2020-10-02  2020     10    2   \n",
      "4  6057.5 2020-10-02 12:42:43     5672.5   1097 2020-10-02  2020     10    2   \n",
      "5  6069.5 2020-10-02 12:54:47     5684.0    106 2020-10-02  2020     10    2   \n",
      "\n",
      "    Market  day_trade  \n",
      "1  futures          1  \n",
      "2  futures          1  \n",
      "3  futures          1  \n",
      "4  futures          1  \n",
      "5  futures          1  \n"
     ]
    }
   ],
   "source": [
    "# call all def\n",
    "\n",
    "# get data\n",
    "data = get_data('../database/ReportHistory.xlsx')\n",
    "\n",
    "\n",
    "##transformation\n",
    "data = change_dtypes(data)\n",
    "\n",
    "print( 'Number of Rows: {}'.format( data.shape[0] ) )\n",
    "print( 'Number of Cols: {}'.format( data.shape[1] ) )\n",
    "\n",
    "print(data.dtypes)\n",
    "\n",
    "#transformation\n",
    "data = feature_extraction(data)\n",
    "print(data.isna().sum() )\n",
    "print('')\n",
    "print(data.head() )\n",
    "\n",
    "today = data['Date'].max()\n",
    "\n",
    "#y =datetime.date.today() - datetime.timedelta(days=1)\n",
    "y =today - datetime.timedelta(days=1)\n",
    "y = y.strftime('%Y_%m_%d')\n",
    "\n",
    "\n",
    "#reports\n",
    "yesterday_report, total_report= financial_reports(data)\n",
    "\n",
    "#cash flow\n",
    "cash_flow(data)\n",
    "\n",
    "income_tax(data)\n"
   ]
  },
  {
   "cell_type": "code",
   "execution_count": 2,
   "metadata": {
    "ExecuteTime": {
     "end_time": "2021-07-03T15:51:53.438998Z",
     "start_time": "2021-07-03T15:51:53.170109Z"
    }
   },
   "outputs": [
    {
     "data": {
      "text/plain": [
       "['Taiz', 'Augusto']"
      ]
     },
     "execution_count": 2,
     "metadata": {},
     "output_type": "execute_result"
    }
   ],
   "source": [
    "## get receiver´s emails and nome \n",
    "\n",
    "emails = pd.read_excel(\"../email.xls\")\n",
    "names = [ n for n in emails.Name]\n",
    "emails = [ e for e in emails.email]\n",
    "\n",
    "\n",
    "for i in range (len(emails)): \n",
    "    arquivo = ['../reports/cashflow2021_03_28.xlsx' ,'../reports/tx_per_month-updated2021_03_28.xlsx']\n",
    "\n",
    "    send_mail_with_excel('../email_senha.txt' , names[i], emails[i],  'financial report', files(arquivo, names[i]) )\n"
   ]
  }
 ],
 "metadata": {
  "kernelspec": {
   "display_name": "Python 3",
   "language": "python",
   "name": "python3"
  },
  "language_info": {
   "codemirror_mode": {
    "name": "ipython",
    "version": 3
   },
   "file_extension": ".py",
   "mimetype": "text/x-python",
   "name": "python",
   "nbconvert_exporter": "python",
   "pygments_lexer": "ipython3",
   "version": "3.8.3"
  }
 },
 "nbformat": 4,
 "nbformat_minor": 4
}
